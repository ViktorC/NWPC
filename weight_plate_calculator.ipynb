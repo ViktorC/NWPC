{
 "cells": [
  {
   "cell_type": "markdown",
   "metadata": {},
   "source": [
    "# Nina's Weight Plate Calculator"
   ]
  },
  {
   "cell_type": "markdown",
   "metadata": {},
   "source": [
    "To calculate which weight plates to rack on the bar or dumbbell, set the first input of the `weight_plates_per_side` function in the last cell to the desired total weight, adjust the value of the `bar_weight` variable as needed, and click on `Run All` under the `Cell` tab at the top of this page."
   ]
  },
  {
   "cell_type": "code",
   "execution_count": 19,
   "metadata": {},
   "outputs": [],
   "source": [
    "def weight_plates_per_side(\n",
    "        total_weight,\n",
    "        bar_weight,\n",
    "        weight_plate_bars,\n",
    "        n_decimal_places_accuracy=2\n",
    "):\n",
    "    weight_per_side = (total_weight - bar_weight) / 2.\n",
    "    sorted_plates = sorted(weight_plate_pairs.keys(), reverse=True)\n",
    "    remaining_weight_plates = \\\n",
    "        [(plate, weight_plate_pairs[plate]) for plate in sorted_plates]\n",
    "\n",
    "    return weight_plates_to_weight(\n",
    "        weight_per_side,\n",
    "        remaining_weight_plates,\n",
    "        {},\n",
    "        n_decimal_places_accuracy)"
   ]
  },
  {
   "cell_type": "code",
   "execution_count": 20,
   "metadata": {},
   "outputs": [],
   "source": [
    "def weight_plates_to_weight(\n",
    "        weight,\n",
    "        remaining_weight_plates,\n",
    "        cache,\n",
    "        n_decimal_places_accuracy\n",
    "):\n",
    "    weight = round(weight, n_decimal_places_accuracy)\n",
    "    if weight == 0.:\n",
    "        return []\n",
    "    elif weight < 0.:\n",
    "        return None\n",
    "    \n",
    "    if weight in cache:\n",
    "        return cache[weight]\n",
    "    \n",
    "    min_plates = None\n",
    "    best_plates = None\n",
    "    for i, (plate, quantity) in enumerate(remaining_weight_plates):\n",
    "        if quantity > 0:\n",
    "            remaining_weight_plates[i] = (plate, quantity - 1)\n",
    "            plates = weight_plates_to_weight(\n",
    "                weight - plate,\n",
    "                remaining_weight_plates,\n",
    "                cache,\n",
    "                n_decimal_places_accuracy)\n",
    "            remaining_weight_plates[i] = (plate, quantity)\n",
    "\n",
    "            if plates is not None and \\\n",
    "                    (min_plates is None or len(plates) < min_plates):\n",
    "                min_plates = len(plates)\n",
    "                best_plates = [plate] + plates\n",
    "\n",
    "    cache[weight] = best_plates\n",
    "    return best_plates"
   ]
  },
  {
   "cell_type": "markdown",
   "metadata": {},
   "source": [
    "The cell below is where you can define the bar weight, the available weight plate pairs, and the total weight (currently `21.5`). If you want to play around with the values after you ran all the cells, it's enough if you just rerun the last cell using the `Run` button.\n",
    "\n",
    "After running the cell, you'll see the output denoting the weight plates to put on each side of the bar under the cell itself. If the output is `None`, it means you cannot load the provided amount of total weight given the bar's weight and the available weight plate pairs."
   ]
  },
  {
   "cell_type": "code",
   "execution_count": 21,
   "metadata": {},
   "outputs": [
    {
     "name": "stdout",
     "output_type": "stream",
     "text": [
      "[5.0, 1.25, 0.5, 0.5]\n"
     ]
    }
   ],
   "source": [
    "bar_weight = 7.\n",
    "weight_plate_pairs = {\n",
    "    .5: 2,\n",
    "    1.25: 1,\n",
    "    2.5: 1,\n",
    "    5.: 2,\n",
    "    15.: 2\n",
    "}\n",
    "\n",
    "print(weight_plates_per_side(21.5, bar_weight, weight_plate_pairs))"
   ]
  }
 ],
 "metadata": {
  "kernelspec": {
   "display_name": "Python 3",
   "language": "python",
   "name": "python3"
  },
  "language_info": {
   "codemirror_mode": {
    "name": "ipython",
    "version": 3
   },
   "file_extension": ".py",
   "mimetype": "text/x-python",
   "name": "python",
   "nbconvert_exporter": "python",
   "pygments_lexer": "ipython3",
   "version": "3.8.3"
  }
 },
 "nbformat": 4,
 "nbformat_minor": 4
}
