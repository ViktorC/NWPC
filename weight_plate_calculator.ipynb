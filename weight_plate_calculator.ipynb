{
 "cells": [
  {
   "cell_type": "code",
   "execution_count": null,
   "metadata": {},
   "outputs": [],
   "source": [
    "import math"
   ]
  },
  {
   "cell_type": "code",
   "execution_count": null,
   "metadata": {},
   "outputs": [],
   "source": [
    "bar_weight = 7.\n",
    "weight_plate_pairs = {\n",
    "    .5: 2,\n",
    "    1.25: 1,\n",
    "    2.5: 1,\n",
    "    5.: 2,\n",
    "    15.: 2\n",
    "}"
   ]
  },
  {
   "cell_type": "code",
   "execution_count": null,
   "metadata": {},
   "outputs": [],
   "source": [
    "def weight_plates_per_side(total_weight):\n",
    "    if total_weight <= bar_weight:\n",
    "        raise ValueError('total weight less than the weight of the bar')\n",
    "\n",
    "    weight_per_side = (total_weight - bar_weight) / 2.\n",
    "    sorted_plates = sorted(weight_plate_pairs.keys(), reverse=True)\n",
    "    remaining_weight_plates = \\\n",
    "        [(plate, weight_plate_pairs[plate]) for plate in sorted_plates]\n",
    "\n",
    "    return weight_plates_to_weight(weight_per_side, remaining_weight_plates)"
   ]
  },
  {
   "cell_type": "code",
   "execution_count": null,
   "metadata": {},
   "outputs": [],
   "source": [
    "def weight_plates_to_weight(weight, remaining_weight_plates):\n",
    "    if math.isclose(0., weight):\n",
    "        return []\n",
    "    elif weight < 0.:\n",
    "        return None\n",
    "\n",
    "    min_plates = -1\n",
    "    best_plates = None\n",
    "    for i, (plate, quantity) in enumerate(remaining_weight_plates):\n",
    "        if quantity > 0:\n",
    "            remaining_weight_plates[i] = (plate, quantity - 1)\n",
    "            plates = weight_plates_to_weight(\n",
    "                weight - plate, remaining_weight_plates)\n",
    "            remaining_weight_plates[i] = (plate, quantity)\n",
    "\n",
    "            if plates is not None and \\\n",
    "                    (min_plates == -1 or len(plates) < min_plates):\n",
    "                min_plates = len(plates)\n",
    "                best_plates = [plate] + plates\n",
    "\n",
    "    return best_plates"
   ]
  },
  {
   "cell_type": "code",
   "execution_count": null,
   "metadata": {},
   "outputs": [],
   "source": [
    "print(weight_plates_per_side(23.))"
   ]
  }
 ],
 "metadata": {
  "kernelspec": {
   "display_name": "Python 3",
   "language": "python",
   "name": "python3"
  },
  "language_info": {
   "codemirror_mode": {
    "name": "ipython",
    "version": 3
   },
   "file_extension": ".py",
   "mimetype": "text/x-python",
   "name": "python",
   "nbconvert_exporter": "python",
   "pygments_lexer": "ipython3",
   "version": "3.8.3"
  }
 },
 "nbformat": 4,
 "nbformat_minor": 4
}
